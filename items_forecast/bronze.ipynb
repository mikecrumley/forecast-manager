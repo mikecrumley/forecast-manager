{
 "cells": [
  {
   "metadata": {},
   "cell_type": "markdown",
   "source": "### This notebook will just land the raw tables in Bronze database",
   "id": "b34ec2673f396bd9"
  },
  {
   "metadata": {
    "ExecuteTime": {
     "end_time": "2025-08-05T18:39:51.964383Z",
     "start_time": "2025-08-05T18:39:51.948994Z"
    }
   },
   "cell_type": "code",
   "source": [
    "import pandas as pd\n",
    "import os\n",
    "from pathlib import Path"
   ],
   "id": "948326365c5fc493",
   "outputs": [],
   "execution_count": 29
  },
  {
   "metadata": {
    "ExecuteTime": {
     "end_time": "2025-08-05T18:40:04.525465Z",
     "start_time": "2025-08-05T18:40:02.816714Z"
    }
   },
   "cell_type": "code",
   "source": [
    "raw_data_path = Path.cwd() / Path('raw_data/')\n",
    "\n",
    "orders_received = pd.read_csv(raw_data_path / Path('OrdersReceived_8-5-2025.csv'))\n",
    "june_order_fc = pd.read_csv(raw_data_path /Path('June order FC.csv'))\n",
    "item_remap = pd.read_csv(raw_data_path / Path('2024 Item remap table.csv'), encoding='latin1')\n"
   ],
   "id": "505e188e5131d89f",
   "outputs": [
    {
     "name": "stderr",
     "output_type": "stream",
     "text": [
      "C:\\Users\\Mcrumley_admin\\AppData\\Local\\Temp\\ipykernel_22232\\2793143449.py:3: DtypeWarning: Columns (26,34) have mixed types. Specify dtype option on import or set low_memory=False.\n",
      "  orders_received = pd.read_csv(raw_data_path / Path('OrdersReceived_8-5-2025.csv'))\n"
     ]
    }
   ],
   "execution_count": 30
  },
  {
   "metadata": {
    "ExecuteTime": {
     "end_time": "2025-08-05T18:40:10.846579Z",
     "start_time": "2025-08-05T18:40:06.326004Z"
    }
   },
   "cell_type": "code",
   "source": [
    "bronze_path = Path.cwd() / Path('BRONZE')\n",
    "\n",
    "orders_received.to_csv(bronze_path / Path('orders_received.csv'), index=False)\n",
    "june_order_fc.to_csv(bronze_path / Path('June order FC.csv'),index=False)\n",
    "item_remap.to_csv(bronze_path / Path('2024 Item remap table.csv'),index=False)"
   ],
   "id": "dc20f5f8ac243ee0",
   "outputs": [],
   "execution_count": 31
  }
 ],
 "metadata": {
  "kernelspec": {
   "display_name": "Python 3",
   "language": "python",
   "name": "python3"
  },
  "language_info": {
   "codemirror_mode": {
    "name": "ipython",
    "version": 2
   },
   "file_extension": ".py",
   "mimetype": "text/x-python",
   "name": "python",
   "nbconvert_exporter": "python",
   "pygments_lexer": "ipython2",
   "version": "2.7.6"
  }
 },
 "nbformat": 4,
 "nbformat_minor": 5
}
