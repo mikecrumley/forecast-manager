{
 "cells": [
  {
   "metadata": {},
   "cell_type": "markdown",
   "source": "### This will make predictions and send to Gold database",
   "id": "fe22910d5e2a251a"
  },
  {
   "metadata": {
    "ExecuteTime": {
     "end_time": "2025-08-05T19:26:47.642232Z",
     "start_time": "2025-08-05T19:26:23.988686Z"
    }
   },
   "cell_type": "code",
   "source": [
    "import pandas as pd\n",
    "from pathlib import Path\n",
    "import multiprocessing as mp\n",
    "import matplotlib.pyplot as plt\n",
    "\n",
    "from sktime.forecasting.exp_smoothing import ExponentialSmoothing\n",
    "from sktime.forecasting.naive import NaiveForecaster\n",
    "from sktime.forecasting.compose import TransformedTargetForecaster, make_reduction\n",
    "from sktime.forecasting.trend import PolynomialTrendForecaster\n",
    "from sktime.transformations.series.detrend import Deseasonalizer\n",
    "from sktime.forecasting.base import ForecastingHorizon\n",
    "from sktime.forecasting.arima import ARIMA, AutoARIMA\n",
    "from sktime.forecasting.model_selection import ExpandingWindowSplitter, SlidingWindowSplitter, temporal_train_test_split\n",
    "from sktime.forecasting.model_evaluation import evaluate\n",
    "from sktime.performance_metrics.forecasting import MeanAbsoluteError, MeanSquaredError\n",
    "from sktime.forecasting.base import BaseForecaster\n",
    "from sktime.utils.validation.forecasting import check_X, check_y\n",
    "from sklearn.linear_model import LinearRegression\n",
    "\n",
    "from statsmodels.tsa.statespace.sarimax import SARIMAX\n",
    "\n",
    "from tqdm import tqdm\n",
    "\n",
    "from forecast_manager import ForecasterEvaluation, \\\n",
    "    ForecastResult, \\\n",
    "    ManagedForecaster, \\\n",
    "    ManagedCrossValidator, \\\n",
    "    ManagedMetric, \\\n",
    "    ManagedEvaluator, \\\n",
    "    ForecastManager"
   ],
   "id": "cc8d320551fcb748",
   "outputs": [],
   "execution_count": 1
  },
  {
   "metadata": {
    "ExecuteTime": {
     "end_time": "2025-08-05T19:26:48.692681Z",
     "start_time": "2025-08-05T19:26:47.649750Z"
    }
   },
   "cell_type": "code",
   "source": [
    "# load data from Silver\n",
    "silver_path = Path.cwd() / Path('SILVER')\n",
    "\n",
    "orders_received = pd.read_csv(silver_path / Path('orders_received.csv'))\n",
    "june_order_fc = pd.read_csv(silver_path / Path('June order FC.csv'))\n",
    "item_remap = pd.read_csv(silver_path / Path('2024 Item remap table.csv'))"
   ],
   "id": "13611d4fc70f2426",
   "outputs": [
    {
     "name": "stderr",
     "output_type": "stream",
     "text": [
      "C:\\Users\\Mcrumley_admin\\AppData\\Local\\Temp\\ipykernel_10548\\3944250870.py:4: DtypeWarning: Columns (35) have mixed types. Specify dtype option on import or set low_memory=False.\n",
      "  orders_received = pd.read_csv(silver_path / Path('orders_received.csv'))\n"
     ]
    }
   ],
   "execution_count": 2
  },
  {
   "metadata": {
    "ExecuteTime": {
     "end_time": "2025-08-05T19:26:49.445060Z",
     "start_time": "2025-08-05T19:26:49.414115Z"
    }
   },
   "cell_type": "code",
   "source": [
    "# Convert the column in-place\n",
    "orders_received['BookingDate'] = pd.to_datetime(\n",
    "    orders_received['BookingDate'],\n",
    "    errors='raise'    # will throw if any non-parseable entries exist\n",
    ")"
   ],
   "id": "3ede1a1a42a3f7b6",
   "outputs": [],
   "execution_count": 3
  },
  {
   "metadata": {
    "ExecuteTime": {
     "end_time": "2025-08-05T19:26:49.567464Z",
     "start_time": "2025-08-05T19:26:49.462685Z"
    }
   },
   "cell_type": "code",
   "source": [
    "# build monthly quantity series for all item_numbers\n",
    "\n",
    "monthly_item_sales_quantity = pd.pivot_table(\n",
    "    orders_received,\n",
    "    index='ItemNumber',\n",
    "    columns=orders_received['BookingDate'].dt.to_period('M'),\n",
    "    values='Quantity',\n",
    "    aggfunc='sum',\n",
    "    fill_value=0\n",
    ")\n",
    "monthly_item_sales_quantity.index.name = 'ItemNumber'\n"
   ],
   "id": "5518e1e03fdef83e",
   "outputs": [],
   "execution_count": 4
  },
  {
   "metadata": {
    "ExecuteTime": {
     "end_time": "2025-08-05T19:26:49.589992Z",
     "start_time": "2025-08-05T19:26:49.585142Z"
    }
   },
   "cell_type": "code",
   "source": [
    "# take a small sample of item_numbers - for testing only\n",
    "import random\n",
    "\n",
    "all_item_numbers = list(monthly_item_sales_quantity.index)\n",
    "all_item_numbers.sort()"
   ],
   "id": "7122d1fb0e5b3d8d",
   "outputs": [],
   "execution_count": 5
  },
  {
   "metadata": {
    "ExecuteTime": {
     "end_time": "2025-08-05T19:26:49.611834Z",
     "start_time": "2025-08-05T19:26:49.607151Z"
    }
   },
   "cell_type": "code",
   "source": [
    "\n",
    "# from Joe's spreadsheet\n",
    "item_classes = [\n",
    "    \"CART\", \"CHOC\", \"CPU\", \"CRAN\", \"DEIC\", \"EGST\", \"ENCM\", \"ESRV\", \"FSRV\",\n",
    "    \"FUEL\", \"HPU\", \"HTAR\", \"JACK\", \"JP\", \"KIT\", \"LIFT\", \"LSRV\", \"MISC\",\n",
    "    \"NOIN\", \"NSRV\", \"OSRV\", \"PART\", \"PLAT\", \"PWTR\", \"RAM\", \"RMA\", \"SAIR\",\n",
    "    \"SLNG\", \"SPCH\", \"STND\", \"SVC\", \"TAIL\", \"TBAR\", \"TIRE\", \"TOOL\", \"TUG\", \"SVCP\",\n",
    "    \"\", \"JP\"\n",
    "]\n",
    "\n",
    "segment_descriptions = [\n",
    "    \"Kits & Parts\",\n",
    "    \"Jacks & Stands\",\n",
    "    \"Hydraulic Systems\",\n",
    "    \"Other\",\n",
    "    \"Tugs\",\n",
    "    \"Servicing Products\",\n",
    "    \"Towbars\",\n",
    "    \"JetPorter\",\n",
    "    \"RAM Air Turbines\",\n",
    "    \"Electrical Systems\",\n",
    "    \"N2O2 Systems\",\n",
    "    \"Engine Comp Washers\",\n",
    "    \"Work Platforms\"\n",
    "]\n",
    "\n",
    "# map from segment descriptions in Joe's spreadsheet to ItemClasses in orders_received\n",
    "segment_to_item_classes = {\n",
    "    'Other': [\n",
    "        'CART', 'CHOC', 'CPU', 'CRAN', 'DEIC', 'HTAR', 'LIFT', 'MISC',\n",
    "        'NOIN', 'PWTR', 'RMA', 'SAIR', 'SLNG', 'SPCH', 'STND', 'SVC',\n",
    "        'TOOL', 'SVCP', '', \"JP\"\n",
    "    ],\n",
    "    'Engine Comp Washers': ['ENCM'],\n",
    "    'Electrical Systems': ['ESRV'],\n",
    "    'Servicing Products': ['FSRV', 'FUEL', 'LSRV', 'TIRE'],\n",
    "    'Hydraulic Systems': ['HPU'],\n",
    "    'Jacks & Stands': ['JACK', 'TAIL'],\n",
    "    'Kits & Parts': ['KIT', 'PART'],\n",
    "    'N2O2 Systems': ['NSRV', 'OSRV'],\n",
    "    'Work Platforms': ['PLAT'],\n",
    "    'RAM Air Turbines': ['RAM'],\n",
    "    'Towbars': ['TBAR'],\n",
    "    'Tugs': ['TUG']\n",
    "}\n"
   ],
   "id": "df623108bceda822",
   "outputs": [],
   "execution_count": 6
  },
  {
   "metadata": {
    "ExecuteTime": {
     "end_time": "2025-08-05T19:26:49.658936Z",
     "start_time": "2025-08-05T19:26:49.648423Z"
    }
   },
   "cell_type": "code",
   "source": [
    "forecast_specs = pd.DataFrame(index = all_item_numbers, columns = ['forecaster_class','forecaster_params', 'test_RMSE'])\n",
    "\n",
    "def get_predictions(item_numbers, months_ahead_to_forecast = 3):\n",
    "    start = pd.Timestamp.today().to_period('M')\n",
    "\n",
    "    # forecast horizon so many months in the future\n",
    "    fh = pd.period_range(start=start, periods=months_ahead_to_forecast, freq='M')\n",
    "\n",
    "    predictions = pd.DataFrame(index = item_numbers, columns = fh)\n",
    "\n",
    "    count = -1\n",
    "\n",
    "    for item_number in item_numbers:\n",
    "        count += 1\n",
    "\n",
    "        ts = monthly_item_sales_quantity[item_number]\n",
    "\n",
    "        ############# forecast configs ###################\n",
    "\n",
    "        forecaster_class_1 = NaiveForecaster\n",
    "        forecaster_class_2 = NaiveForecaster\n",
    "        forecaster_class_3 = NaiveForecaster\n",
    "        forecaster_class_4 = TransformedTargetForecaster\n",
    "        forecaster_class_5 = ExponentialSmoothing           # Holt-Winters\n",
    "        forecaster_class_6 = AutoARIMA\n",
    "\n",
    "\n",
    "        forecaster_params_1 = {\n",
    "            'strategy':'last'\n",
    "        }\n",
    "\n",
    "        forecaster_params_2 = {\n",
    "            'strategy':'mean',\n",
    "            'window_length': 3\n",
    "        }\n",
    "\n",
    "        forecaster_params_3 = {\n",
    "            'strategy':'mean',\n",
    "            'window_length': 12\n",
    "        }\n",
    "\n",
    "        forecaster_params_4 = {\n",
    "            'steps':[(\"deseasonalize\", Deseasonalizer(model=\"additive\", sp=12)),\n",
    "            (\"trend\", PolynomialTrendForecaster(degree=1))]\n",
    "        }\n",
    "\n",
    "        forecaster_params_5 = {\n",
    "            'trend': \"add\",\n",
    "            'seasonal': \"add\",\n",
    "            'sp': 12\n",
    "        }\n",
    "\n",
    "        forecaster_params_6 = {}      #{'order':(1,1,1),'seasonal_order':(1,1,1)}\n",
    "\n",
    "        splitter_class_1 = SlidingWindowSplitter\n",
    "\n",
    "        cv_params_1 = {'window_length':24, 'step_length': 12, 'fh': range(1,months_ahead_to_forecast+1)}\n",
    "\n",
    "        metric_1 = MeanSquaredError(square_root=True)\n",
    "\n",
    "        ##############################################################\n",
    "\n",
    "        forecaster_1 = ManagedForecaster(forecaster_class=forecaster_class_1,init_params=forecaster_params_1)\n",
    "        forecaster_2 = ManagedForecaster(forecaster_class=forecaster_class_2,init_params=forecaster_params_2)\n",
    "        forecaster_3 = ManagedForecaster(forecaster_class=forecaster_class_3,init_params=forecaster_params_3)\n",
    "        forecaster_4 = ManagedForecaster(forecaster_class=forecaster_class_4,init_params=forecaster_params_4)\n",
    "        forecaster_5 = ManagedForecaster(forecaster_class=forecaster_class_5,init_params=forecaster_params_5)\n",
    "        forecaster_6 = ManagedForecaster(forecaster_class=forecaster_class_6,init_params=forecaster_params_6)\n",
    "\n",
    "        managed_cv_1 = ManagedCrossValidator(splitter_class=splitter_class_1, init_params=cv_params_1)\n",
    "\n",
    "        managed_metric_1 = ManagedMetric(metric_1)\n",
    "\n",
    "        managed_evaluator_1 = ManagedEvaluator(\n",
    "            managed_cv = managed_cv_1,\n",
    "            strategy=\"refit\",\n",
    "            scoring=managed_metric_1,\n",
    "            error_score='raise')\n",
    "\n",
    "        fm = ForecastManager(y=ts, name=item_number)\n",
    "\n",
    "        fm.add_forecaster(forecaster_1)\n",
    "        fm.add_forecaster(forecaster_2)\n",
    "        fm.add_forecaster(forecaster_3)\n",
    "        fm.add_forecaster(forecaster_4)\n",
    "        fm.add_forecaster(forecaster_5)\n",
    "        fm.add_forecaster(forecaster_6)\n",
    "\n",
    "        fm.add_evaluator(managed_evaluator_1)\n",
    "\n",
    "        #################################################\n",
    "\n",
    "\n",
    "        fm.evaluate()\n",
    "        summary = fm.summarize_evaluations()\n",
    "\n",
    "        third_col = summary.columns[2]\n",
    "\n",
    "        idx = summary[third_col].idxmin()\n",
    "\n",
    "        winning_forecaster_name = summary.loc[idx].name\n",
    "\n",
    "        fm.fit_forecaster(winning_forecaster_name)\n",
    "\n",
    "        forecast_result=fm.predict_forecaster(winning_forecaster_name, fh)\n",
    "        forecast_series = forecast_result.results\n",
    "\n",
    "        predictions.loc[item_number] = forecast_series\n",
    "        forecast_specs.loc[item_number] = list(summary.loc[idx])\n",
    "\n",
    "        result = pd.merge(predictions, forecast_specs, left_index=True, right_index=True)\n",
    "\n",
    "        return result\n",
    "\n"
   ],
   "id": "6a1f7e955d6b1e44",
   "outputs": [],
   "execution_count": 7
  },
  {
   "metadata": {
    "ExecuteTime": {
     "start_time": "2025-08-05T19:26:49.663954Z"
    }
   },
   "cell_type": "code",
   "source": [
    "def wrap_get_predictions(item_numbers):  #, months_ahead_to_forecast):\n",
    "\n",
    "    return 2\n",
    "\n",
    "    result = get_predictions(item_numbers, months_ahead_to_forecast)\n",
    "    return result\n",
    "\n",
    "all_item_numbers = range(100)\n",
    "\n",
    "fold_size = 10\n",
    "all_results = []\n",
    "\n",
    "if __name__ == \"__main__\":\n",
    "    folds = [all_item_numbers[i:i + fold_size] for i in range(0, len(all_item_numbers), fold_size)]\n",
    "    with mp.Pool(processes=4) as pool:\n",
    "        results = pool.map(wrap_get_predictions, folds)  #, months_ahead_to_forecast)\n",
    "        all_results.append(results)\n",
    "\n"
   ],
   "id": "3d4a8c7c1e23d198",
   "outputs": [],
   "execution_count": null
  },
  {
   "metadata": {
    "ExecuteTime": {
     "end_time": "2025-08-05T19:30:19.587121Z",
     "start_time": "2025-08-05T19:30:19.000411Z"
    }
   },
   "cell_type": "code",
   "source": [
    "from concurrent.futures import ProcessPoolExecutor\n",
    "\n",
    "def wrap_get_predictions(item_numbers):\n",
    "    return 2\n",
    "\n",
    "\n",
    "all_item_numbers = range(100)\n",
    "\n",
    "fold_size = 10\n",
    "all_results = []\n",
    "\n",
    "# if __name__ == \"__main__\":\n",
    "#     folds = [all_item_numbers[i:i + fold_size] for i in range(0, len(all_item_numbers), fold_size)]\n",
    "#     with mp.Pool(processes=4) as pool:\n",
    "#         results = pool.map(wrap_get_predictions, folds)  #, months_ahead_to_forecast)\n",
    "#         all_results.append(results)\n",
    "\n",
    "\n",
    "with ProcessPoolExecutor() as executor:\n",
    "    results = list(executor.map(wrap_get_predictions, [1, 2, 3, 4]))\n",
    "    print(results)\n",
    "\n"
   ],
   "id": "11cc2e172ff004e2",
   "outputs": [
    {
     "ename": "BrokenProcessPool",
     "evalue": "A process in the process pool was terminated abruptly while the future was running or pending.",
     "output_type": "error",
     "traceback": [
      "\u001B[31m---------------------------------------------------------------------------\u001B[39m",
      "\u001B[31mBrokenProcessPool\u001B[39m                         Traceback (most recent call last)",
      "\u001B[36mCell\u001B[39m\u001B[36m \u001B[39m\u001B[32mIn[1]\u001B[39m\u001B[32m, line 20\u001B[39m\n\u001B[32m     12\u001B[39m \u001B[38;5;66;03m# if __name__ == \"__main__\":\u001B[39;00m\n\u001B[32m     13\u001B[39m \u001B[38;5;66;03m#     folds = [all_item_numbers[i:i + fold_size] for i in range(0, len(all_item_numbers), fold_size)]\u001B[39;00m\n\u001B[32m     14\u001B[39m \u001B[38;5;66;03m#     with mp.Pool(processes=4) as pool:\u001B[39;00m\n\u001B[32m     15\u001B[39m \u001B[38;5;66;03m#         results = pool.map(wrap_get_predictions, folds)  #, months_ahead_to_forecast)\u001B[39;00m\n\u001B[32m     16\u001B[39m \u001B[38;5;66;03m#         all_results.append(results)\u001B[39;00m\n\u001B[32m     19\u001B[39m \u001B[38;5;28;01mwith\u001B[39;00m ProcessPoolExecutor() \u001B[38;5;28;01mas\u001B[39;00m executor:\n\u001B[32m---> \u001B[39m\u001B[32m20\u001B[39m     results = \u001B[38;5;28;43mlist\u001B[39;49m\u001B[43m(\u001B[49m\u001B[43mexecutor\u001B[49m\u001B[43m.\u001B[49m\u001B[43mmap\u001B[49m\u001B[43m(\u001B[49m\u001B[43mwrap_get_predictions\u001B[49m\u001B[43m,\u001B[49m\u001B[43m \u001B[49m\u001B[43m[\u001B[49m\u001B[32;43m1\u001B[39;49m\u001B[43m,\u001B[49m\u001B[43m \u001B[49m\u001B[32;43m2\u001B[39;49m\u001B[43m,\u001B[49m\u001B[43m \u001B[49m\u001B[32;43m3\u001B[39;49m\u001B[43m,\u001B[49m\u001B[43m \u001B[49m\u001B[32;43m4\u001B[39;49m\u001B[43m]\u001B[49m\u001B[43m)\u001B[49m\u001B[43m)\u001B[49m\n\u001B[32m     21\u001B[39m     \u001B[38;5;28mprint\u001B[39m(results)\n",
      "\u001B[36mFile \u001B[39m\u001B[32m~\\AppData\\Local\\Programs\\Python\\Python312\\Lib\\concurrent\\futures\\process.py:642\u001B[39m, in \u001B[36m_chain_from_iterable_of_lists\u001B[39m\u001B[34m(iterable)\u001B[39m\n\u001B[32m    636\u001B[39m \u001B[38;5;28;01mdef\u001B[39;00m\u001B[38;5;250m \u001B[39m\u001B[34m_chain_from_iterable_of_lists\u001B[39m(iterable):\n\u001B[32m    637\u001B[39m \u001B[38;5;250m    \u001B[39m\u001B[33;03m\"\"\"\u001B[39;00m\n\u001B[32m    638\u001B[39m \u001B[33;03m    Specialized implementation of itertools.chain.from_iterable.\u001B[39;00m\n\u001B[32m    639\u001B[39m \u001B[33;03m    Each item in *iterable* should be a list.  This function is\u001B[39;00m\n\u001B[32m    640\u001B[39m \u001B[33;03m    careful not to keep references to yielded objects.\u001B[39;00m\n\u001B[32m    641\u001B[39m \u001B[33;03m    \"\"\"\u001B[39;00m\n\u001B[32m--> \u001B[39m\u001B[32m642\u001B[39m \u001B[43m    \u001B[49m\u001B[38;5;28;43;01mfor\u001B[39;49;00m\u001B[43m \u001B[49m\u001B[43melement\u001B[49m\u001B[43m \u001B[49m\u001B[38;5;129;43;01min\u001B[39;49;00m\u001B[43m \u001B[49m\u001B[43miterable\u001B[49m\u001B[43m:\u001B[49m\n\u001B[32m    643\u001B[39m \u001B[43m        \u001B[49m\u001B[43melement\u001B[49m\u001B[43m.\u001B[49m\u001B[43mreverse\u001B[49m\u001B[43m(\u001B[49m\u001B[43m)\u001B[49m\n\u001B[32m    644\u001B[39m \u001B[43m        \u001B[49m\u001B[38;5;28;43;01mwhile\u001B[39;49;00m\u001B[43m \u001B[49m\u001B[43melement\u001B[49m\u001B[43m:\u001B[49m\n",
      "\u001B[36mFile \u001B[39m\u001B[32m~\\AppData\\Local\\Programs\\Python\\Python312\\Lib\\concurrent\\futures\\_base.py:619\u001B[39m, in \u001B[36mExecutor.map.<locals>.result_iterator\u001B[39m\u001B[34m()\u001B[39m\n\u001B[32m    616\u001B[39m \u001B[38;5;28;01mwhile\u001B[39;00m fs:\n\u001B[32m    617\u001B[39m     \u001B[38;5;66;03m# Careful not to keep a reference to the popped future\u001B[39;00m\n\u001B[32m    618\u001B[39m     \u001B[38;5;28;01mif\u001B[39;00m timeout \u001B[38;5;129;01mis\u001B[39;00m \u001B[38;5;28;01mNone\u001B[39;00m:\n\u001B[32m--> \u001B[39m\u001B[32m619\u001B[39m         \u001B[38;5;28;01myield\u001B[39;00m \u001B[43m_result_or_cancel\u001B[49m\u001B[43m(\u001B[49m\u001B[43mfs\u001B[49m\u001B[43m.\u001B[49m\u001B[43mpop\u001B[49m\u001B[43m(\u001B[49m\u001B[43m)\u001B[49m\u001B[43m)\u001B[49m\n\u001B[32m    620\u001B[39m     \u001B[38;5;28;01melse\u001B[39;00m:\n\u001B[32m    621\u001B[39m         \u001B[38;5;28;01myield\u001B[39;00m _result_or_cancel(fs.pop(), end_time - time.monotonic())\n",
      "\u001B[36mFile \u001B[39m\u001B[32m~\\AppData\\Local\\Programs\\Python\\Python312\\Lib\\concurrent\\futures\\_base.py:317\u001B[39m, in \u001B[36m_result_or_cancel\u001B[39m\u001B[34m(***failed resolving arguments***)\u001B[39m\n\u001B[32m    315\u001B[39m \u001B[38;5;28;01mtry\u001B[39;00m:\n\u001B[32m    316\u001B[39m     \u001B[38;5;28;01mtry\u001B[39;00m:\n\u001B[32m--> \u001B[39m\u001B[32m317\u001B[39m         \u001B[38;5;28;01mreturn\u001B[39;00m \u001B[43mfut\u001B[49m\u001B[43m.\u001B[49m\u001B[43mresult\u001B[49m\u001B[43m(\u001B[49m\u001B[43mtimeout\u001B[49m\u001B[43m)\u001B[49m\n\u001B[32m    318\u001B[39m     \u001B[38;5;28;01mfinally\u001B[39;00m:\n\u001B[32m    319\u001B[39m         fut.cancel()\n",
      "\u001B[36mFile \u001B[39m\u001B[32m~\\AppData\\Local\\Programs\\Python\\Python312\\Lib\\concurrent\\futures\\_base.py:456\u001B[39m, in \u001B[36mFuture.result\u001B[39m\u001B[34m(self, timeout)\u001B[39m\n\u001B[32m    454\u001B[39m     \u001B[38;5;28;01mraise\u001B[39;00m CancelledError()\n\u001B[32m    455\u001B[39m \u001B[38;5;28;01melif\u001B[39;00m \u001B[38;5;28mself\u001B[39m._state == FINISHED:\n\u001B[32m--> \u001B[39m\u001B[32m456\u001B[39m     \u001B[38;5;28;01mreturn\u001B[39;00m \u001B[38;5;28;43mself\u001B[39;49m\u001B[43m.\u001B[49m\u001B[43m__get_result\u001B[49m\u001B[43m(\u001B[49m\u001B[43m)\u001B[49m\n\u001B[32m    457\u001B[39m \u001B[38;5;28;01melse\u001B[39;00m:\n\u001B[32m    458\u001B[39m     \u001B[38;5;28;01mraise\u001B[39;00m \u001B[38;5;167;01mTimeoutError\u001B[39;00m()\n",
      "\u001B[36mFile \u001B[39m\u001B[32m~\\AppData\\Local\\Programs\\Python\\Python312\\Lib\\concurrent\\futures\\_base.py:401\u001B[39m, in \u001B[36mFuture.__get_result\u001B[39m\u001B[34m(self)\u001B[39m\n\u001B[32m    399\u001B[39m \u001B[38;5;28;01mif\u001B[39;00m \u001B[38;5;28mself\u001B[39m._exception:\n\u001B[32m    400\u001B[39m     \u001B[38;5;28;01mtry\u001B[39;00m:\n\u001B[32m--> \u001B[39m\u001B[32m401\u001B[39m         \u001B[38;5;28;01mraise\u001B[39;00m \u001B[38;5;28mself\u001B[39m._exception\n\u001B[32m    402\u001B[39m     \u001B[38;5;28;01mfinally\u001B[39;00m:\n\u001B[32m    403\u001B[39m         \u001B[38;5;66;03m# Break a reference cycle with the exception in self._exception\u001B[39;00m\n\u001B[32m    404\u001B[39m         \u001B[38;5;28mself\u001B[39m = \u001B[38;5;28;01mNone\u001B[39;00m\n",
      "\u001B[31mBrokenProcessPool\u001B[39m: A process in the process pool was terminated abruptly while the future was running or pending."
     ]
    }
   ],
   "execution_count": 1
  }
 ],
 "metadata": {
  "kernelspec": {
   "display_name": "Python 3",
   "language": "python",
   "name": "python3"
  },
  "language_info": {
   "codemirror_mode": {
    "name": "ipython",
    "version": 2
   },
   "file_extension": ".py",
   "mimetype": "text/x-python",
   "name": "python",
   "nbconvert_exporter": "python",
   "pygments_lexer": "ipython2",
   "version": "2.7.6"
  }
 },
 "nbformat": 4,
 "nbformat_minor": 5
}
