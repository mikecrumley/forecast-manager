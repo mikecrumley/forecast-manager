{
 "cells": [
  {
   "metadata": {},
   "cell_type": "markdown",
   "source": "### This will do cleaning and pre-processing and land in Silver database",
   "id": "5ed08c1e3c3dcb27"
  },
  {
   "metadata": {
    "ExecuteTime": {
     "end_time": "2025-08-05T18:40:20.072319Z",
     "start_time": "2025-08-05T18:40:20.068335Z"
    }
   },
   "cell_type": "code",
   "source": [
    "import pandas as pd\n",
    "from pathlib import Path"
   ],
   "id": "e69153da1bda006e",
   "outputs": [],
   "execution_count": 34
  },
  {
   "metadata": {
    "ExecuteTime": {
     "end_time": "2025-08-05T18:40:26.158470Z",
     "start_time": "2025-08-05T18:40:24.712761Z"
    }
   },
   "cell_type": "code",
   "source": [
    "# load data from Bronze\n",
    "\n",
    "bronze_path = Path.cwd() / Path('BRONZE')\n",
    "orders_received = pd.read_csv(bronze_path / Path('orders_received.csv'))\n",
    "june_order_fc = pd.read_csv(bronze_path / Path('June order FC.csv'))\n",
    "item_remap = pd.read_csv(bronze_path / Path('2024 Item remap table.csv'))"
   ],
   "id": "29b7f13334508d66",
   "outputs": [
    {
     "name": "stderr",
     "output_type": "stream",
     "text": [
      "C:\\Users\\Mcrumley_admin\\AppData\\Local\\Temp\\ipykernel_7472\\3368120379.py:4: DtypeWarning: Columns (26,34) have mixed types. Specify dtype option on import or set low_memory=False.\n",
      "  orders_received = pd.read_csv(bronze_path / Path('orders_received.csv'))\n"
     ]
    }
   ],
   "execution_count": 35
  },
  {
   "metadata": {
    "ExecuteTime": {
     "end_time": "2025-08-05T18:40:42.167480Z",
     "start_time": "2025-08-05T18:40:41.916061Z"
    }
   },
   "cell_type": "code",
   "source": [
    "# prune data\n",
    "orders_received['ItemClass'] = orders_received['ItemClass'].str.strip()\n",
    "orders_received['ItemNumber'] = orders_received['ItemNumber'].str.strip()\n",
    "orders_received['BookingDate'] = pd.to_datetime(orders_received['BookingDate'])\n",
    "\n",
    "orders_received['Quantity'] = pd.to_numeric(orders_received['Quantity'], errors='coerce')\n",
    "orders_received['BookingDate'] = pd.to_datetime(orders_received['BookingDate'],errors='raise')\n",
    "orders_received['Month'] = orders_received['BookingDate'].dt.to_period('M')\n",
    "\n",
    "# date range ends on the first of this month\n",
    "end_date = pd.Timestamp.today().replace(day=1).normalize()\n",
    "\n",
    "# go five years back\n",
    "start_date = (end_date - pd.DateOffset(years=5)).normalize()\n",
    "\n",
    "# Filter orders between first of THIS month and five years earlier\n",
    "# This will be our sample data from now on\n",
    "orders_received = orders_received[\n",
    "    (orders_received['BookingDate'] > start_date) &\n",
    "    (orders_received['BookingDate'] < end_date)\n",
    "]\n",
    "\n"
   ],
   "id": "e1722bda206ab670",
   "outputs": [],
   "execution_count": 36
  },
  {
   "metadata": {
    "ExecuteTime": {
     "end_time": "2025-08-05T18:41:09.696102Z",
     "start_time": "2025-08-05T18:41:06.854375Z"
    }
   },
   "cell_type": "code",
   "source": [
    "\n",
    "silver_path = Path.cwd() / Path('SILVER')\n",
    "\n",
    "orders_received.to_csv(silver_path / Path('orders_received.csv'))\n",
    "june_order_fc.to_csv(silver_path / Path('June order FC.csv'))\n",
    "item_remap.to_csv(silver_path / Path('2024 Item remap table.csv'))"
   ],
   "id": "94b3148975b20709",
   "outputs": [],
   "execution_count": 38
  }
 ],
 "metadata": {
  "kernelspec": {
   "display_name": "Python 3",
   "language": "python",
   "name": "python3"
  },
  "language_info": {
   "codemirror_mode": {
    "name": "ipython",
    "version": 2
   },
   "file_extension": ".py",
   "mimetype": "text/x-python",
   "name": "python",
   "nbconvert_exporter": "python",
   "pygments_lexer": "ipython2",
   "version": "2.7.6"
  }
 },
 "nbformat": 4,
 "nbformat_minor": 5
}
